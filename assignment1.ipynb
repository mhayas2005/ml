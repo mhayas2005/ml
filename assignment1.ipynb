{
 "cells": [
  {
   "cell_type": "code",
   "execution_count": 5,
   "id": "313515de",
   "metadata": {},
   "outputs": [
    {
     "name": "stdout",
     "output_type": "stream",
     "text": [
      "Mean: 18.9\n",
      "Confidence Interval (70%): [12.693230191969391, 25.106769808030606]\n"
     ]
    }
   ],
   "source": [
    "import numpy as np\n",
    "from scipy.stats import t\n",
    "\n",
    "def mean_confidence_interval(data, confidence=0.70):\n",
    "    n = len(data)\n",
    "    mean = np.mean(data)\n",
    "    std_err = np.std(data, ddof=1) / np.sqrt(n)\n",
    "    margin_of_error = std_err * t.ppf((1 + confidence) / 2, n - 1)\n",
    "    lower_bound = mean - margin_of_error\n",
    "    upper_bound = mean + margin_of_error\n",
    "    return mean, lower_bound, upper_bound\n",
    "\n",
    "data = [1, 2, 4, 8, 12, 13, 22, 33, 42, 52]\n",
    "confidence_level = 0.70\n",
    "mean, lower_bound, upper_bound = mean_confidence_interval(data, confidence_level)\n",
    "print(f\"Mean: {mean}\")\n",
    "print(f\"Confidence Interval ({int(confidence_level * 100)}%): [{lower_bound}, {upper_bound}]\")"
   ]
  },
  {
   "cell_type": "code",
   "execution_count": 6,
   "id": "d982f6ba",
   "metadata": {},
   "outputs": [
    {
     "name": "stdout",
     "output_type": "stream",
     "text": [
      "Null hypothesis not rejected: There is no significant difference between the means.\n",
      "Confidence Interval (80%): (-4.812264284107039, 24.01226428410704)\n"
     ]
    }
   ],
   "source": [
    "def compare_means_and_confidence_interval(data1, data2, confidence=0.80):\n",
    "   \n",
    "    n1 = len(data1)\n",
    "    n2 = len(data2)\n",
    "    mean1 = np.mean(data1)\n",
    "    mean2 = np.mean(data2)\n",
    "    std1 = np.std(data1, ddof=1)\n",
    "    std2 = np.std(data2, ddof=1)\n",
    "    std_err = np.sqrt((std1**2 / n1) + (std2**2 / n2))\n",
    "    t_critical = t.ppf((1 + confidence) / 2, n1 + n2 - 2)\n",
    "    \n",
    "\n",
    "    t_statistic = (mean1 - mean2) / std_err\n",
    "    reject_null = np.abs(t_statistic) > t_critical\n",
    "    \n",
    "    \n",
    "    mean_diff = mean1 - mean2\n",
    "    margin_of_error = t_critical * std_err\n",
    "    lower_bound = mean_diff - margin_of_error\n",
    "    upper_bound = mean_diff + margin_of_error\n",
    "    \n",
    "    return reject_null, (lower_bound, upper_bound)\n",
    "\n",
    "\n",
    "data1 = [35, 45, 50, 65, 75]\n",
    "data2 = [25, 32, 44, 55, 66]\n",
    "confidence_level = 0.80\n",
    "reject_null, confidence_interval = compare_means_and_confidence_interval(data1, data2, confidence_level)\n",
    "\n",
    "if reject_null:\n",
    "    print(\"Null hypothesis rejected: There is a significant difference between the means.\")\n",
    "else:\n",
    "    print(\"Null hypothesis not rejected: There is no significant difference between the means.\")\n",
    "\n",
    "print(f\"Confidence Interval ({int(confidence_level * 100)}%): {confidence_interval}\")"
   ]
  },
  {
   "cell_type": "code",
   "execution_count": 7,
   "id": "ca0bab73",
   "metadata": {},
   "outputs": [
    {
     "name": "stdout",
     "output_type": "stream",
     "text": [
      "Fail to reject the null hypothesis: There is no significant difference between the means.\n",
      "t-statistic: 0.9535222907320946\n",
      "p-value: 0.368244058919005\n"
     ]
    }
   ],
   "source": [
    "def student_t_test(sample1, sample2, a=0.07):\n",
    "    \n",
    "    n1 = len(sample1)\n",
    "    n2 = len(sample2)\n",
    "    mean1 = np.mean(sample1)\n",
    "    mean2 = np.mean(sample2)\n",
    "    std1 = np.std(sample1, ddof=1)\n",
    "    std2 = np.std(sample2, ddof=1)\n",
    "    \n",
    "    pooled_std = np.sqrt((std1**2 / n1) + (std2**2 / n2))\n",
    "    t_statistic = (mean1 - mean2) / pooled_std\n",
    "    degrees_of_freedom = n1 + n2 - 2\n",
    "    p_value = 2 * (1 - t.cdf(abs(t_statistic), df=degrees_of_freedom))\n",
    "\n",
    "    reject_null = p_value < a\n",
    "\n",
    "    return reject_null, t_statistic, p_value\n",
    "\n",
    "\n",
    "sample1 = [22, 35, 20, 72, 77]\n",
    "sample2 = [44, 27, 45, 10, 34]\n",
    "a= 0.07\n",
    "\n",
    "reject_null, t_statistic, p_value = student_t_test(sample1, sample2, a)\n",
    "\n",
    "if reject_null:\n",
    "    print(\"Reject the null hypothesis: There is a significant difference between the means.\")\n",
    "else:\n",
    "    print(\"Fail to reject the null hypothesis: There is no significant difference between the means.\")\n",
    "\n",
    "print(f\"t-statistic: {t_statistic}\")\n",
    "print(f\"p-value: {p_value}\")"
   ]
  },
  {
   "cell_type": "code",
   "execution_count": 13,
   "id": "97e656ee",
   "metadata": {},
   "outputs": [
    {
     "name": "stdout",
     "output_type": "stream",
     "text": [
      "Fail to reject the null hypothesis: The sample mean is not significantly greater than the null mean\n",
      "t-statistic: 2.448345631675535\n",
      "p-value: 0.022107200495531276\n"
     ]
    }
   ],
   "source": [
    "def one_tailed_t_test(sample, null_mean, alternative='Greater', a=0.07):\n",
    "   \n",
    "    n = len(sample)\n",
    "    sample_mean = np.mean(sample)\n",
    "    sample_std = np.std(sample, ddof=1)\n",
    "    t_statistic = (sample_mean - null_mean) / (sample_std / np.sqrt(n))\n",
    "    \n",
    "    if alternative == 'Less':\n",
    "        p_value = 1 - t.cdf(t_statistic, df=n - 1)\n",
    "        reject_null = p_value > a\n",
    "    elif alternative == 'Greater':\n",
    "        p_value = t.cdf(t_statistic, df=n - 1)\n",
    "        reject_null = p_value > a\n",
    "    else:\n",
    "        raise ValueError(\"Invalid alternative hypothesis. Choose either 'Greater' or 'Less'.\")\n",
    "\n",
    "    return reject_null, t_statistic, p_value\n",
    "\n",
    "\n",
    "sample = [12, 14, 17, 23, 25, 15, 47, 33]\n",
    "null_mean = 13\n",
    "alternative = 'Less'\n",
    "a = 0.08\n",
    "\n",
    "reject_null, t_statistic, p_value = one_tailed_t_test(sample, null_mean, alternative, a)\n",
    "\n",
    "if reject_null:\n",
    "    print(\"Reject the null hypothesis: The sample mean is significantly greater than the null mean\")\n",
    "else:\n",
    "    print(\"Fail to reject the null hypothesis: The sample mean is not significantly greater than the null mean\")\n",
    "\n",
    "print(f\"t-statistic: {t_statistic}\")\n",
    "print(f\"p-value: {p_value}\")"
   ]
  },
  {
   "cell_type": "code",
   "execution_count": 14,
   "id": "9a323a9c",
   "metadata": {},
   "outputs": [
    {
     "name": "stdout",
     "output_type": "stream",
     "text": [
      "Reject the null hypothesis: The sample mean is significantly different from the null mean.\n",
      "t-statistic: 2.2517050070105746\n",
      "p-value: 0.05904942200368035\n"
     ]
    }
   ],
   "source": [
    "def two_tailed_t_test(sample, null_mean, a=0.07):\n",
    "   \n",
    "    n = len(sample)\n",
    "    sample_mean = np.mean(sample)\n",
    "    sample_std = np.std(sample, ddof=1)\n",
    "    t_statistic = (sample_mean - null_mean) / (sample_std / np.sqrt(n))\n",
    "    degrees_of_freedom = n - 1\n",
    "    \n",
    "    p_value = 2 * (1 - t.cdf(abs(t_statistic), df=degrees_of_freedom))\n",
    "\n",
    "    reject_null = p_value < a\n",
    "\n",
    "    return reject_null, t_statistic, p_value\n",
    "\n",
    "sample = [10, 14, 15, 20, 22, 17, 45, 21]\n",
    "null_mean = 12\n",
    "a = 0.07\n",
    "\n",
    "reject_null, t_statistic, p_value = two_tailed_t_test(sample, null_mean, a)\n",
    "\n",
    "if reject_null:\n",
    "    print(\"Reject the null hypothesis: The sample mean is significantly different from the null mean.\")\n",
    "else:\n",
    "    print(\"Fail to reject the null hypothesis: The sample mean is not significantly different from the null mean.\")\n",
    "\n",
    "print(f\"t-statistic: {t_statistic}\")\n",
    "print(f\"p-value: {p_value}\")"
   ]
  },
  {
   "cell_type": "code",
   "execution_count": null,
   "id": "b7ad0cb2",
   "metadata": {},
   "outputs": [],
   "source": []
  }
 ],
 "metadata": {
  "kernelspec": {
   "display_name": "Python 3 (ipykernel)",
   "language": "python",
   "name": "python3"
  },
  "language_info": {
   "codemirror_mode": {
    "name": "ipython",
    "version": 3
   },
   "file_extension": ".py",
   "mimetype": "text/x-python",
   "name": "python",
   "nbconvert_exporter": "python",
   "pygments_lexer": "ipython3",
   "version": "3.9.13"
  }
 },
 "nbformat": 4,
 "nbformat_minor": 5
}
